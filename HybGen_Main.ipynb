{
  "cells": [
    {
      "cell_type": "markdown",
      "metadata": {
        "id": "view-in-github",
        "colab_type": "text"
      },
      "source": [
        "<a href=\"https://colab.research.google.com/github/mahsasheikh/HybGen/blob/main/HybGen_Main.ipynb\" target=\"_parent\"><img src=\"https://colab.research.google.com/assets/colab-badge.svg\" alt=\"Open In Colab\"/></a>"
      ]
    },
    {
      "cell_type": "markdown",
      "metadata": {
        "id": "1jYp9cOwXEik"
      },
      "source": [
        "# **HybGen Docker**\n",
        "A Jupyter Notebook based on AutoDock Vina 1.2.0 written to generate hybrid ligands and perform ✨**fully automated**✨ docking simulation.  \n",
        "\n",
        "![emojimix.app_160_166.png](data:image/png;base64,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)"
      ]
    },
    {
      "cell_type": "markdown",
      "metadata": {
        "id": "TIQMDdlDo0LD"
      },
      "source": [
        "---\n",
        "---\n",
        "# **Setting up the Environment for Molecular Docking**\n",
        "\n",
        "Before starting, we need to install all the necessary software and dependecies to perform molecular docking.\n",
        "\n",
        "+ condacolab (https://github.com/conda-incubator/condacolab)\n",
        "+ MGLtools (https://ccsb.scripps.edu/mgltools/)\n",
        "+ AutoDock Vina (https://vina.scripps.edu/)\n",
        "+ biopython (https://biopython.org/)\n",
        "+ EasyDock (https://github.com/ci-lab-cz/easydock)\n",
        "+ PDBFixer (https://github.com/openmm/pdbfixer)\n",
        "+ RDKit (https://www.rdkit.org/)\n",
        "+ LABODOCK (https://github.com/RyanZR/labodock/tree/main)"
      ]
    },
    {
      "cell_type": "code",
      "execution_count": 1,
      "metadata": {
        "colab": {
          "base_uri": "https://localhost:8080/"
        },
        "id": "rLuphm7Tk3ku",
        "outputId": "8f93b44e-d26b-412f-b7db-a31e455a4a24"
      },
      "outputs": [
        {
          "output_type": "stream",
          "name": "stdout",
          "text": [
            "⏬ Downloading https://github.com/conda-forge/miniforge/releases/download/23.11.0-0/Mambaforge-23.11.0-0-Linux-x86_64.sh...\n",
            "📦 Installing...\n",
            "📌 Adjusting configuration...\n",
            "🩹 Patching environment...\n",
            "⏲ Done in 0:00:15\n",
            "🔁 Restarting kernel...\n"
          ]
        }
      ],
      "source": [
        "# @title Initializing Condacolab (kernel will restart)\n",
        "\n",
        "!pip install -q condacolab\n",
        "import condacolab\n",
        "condacolab.install()"
      ]
    },
    {
      "cell_type": "code",
      "execution_count": 1,
      "metadata": {
        "colab": {
          "base_uri": "https://localhost:8080/"
        },
        "id": "p0iucNpJhrjv",
        "outputId": "3e75bc70-3a9f-46d8-9b57-b2828d35909b"
      },
      "outputs": [
        {
          "output_type": "stream",
          "name": "stdout",
          "text": [
            "✨🍰✨ Everything looks OK!\n"
          ]
        }
      ],
      "source": [
        "# @title Check that everything is fine\n",
        "\n",
        "import condacolab\n",
        "condacolab.check()"
      ]
    },
    {
      "cell_type": "code",
      "execution_count": 2,
      "metadata": {
        "colab": {
          "base_uri": "https://localhost:8080/"
        },
        "id": "STv7B_embbZg",
        "outputId": "5e1638cb-c8d7-4df6-cdaf-dc9efbaae7a6"
      },
      "outputs": [
        {
          "output_type": "stream",
          "name": "stdout",
          "text": [
            "📦 Installing conda dependencies ...\n",
            "\n",
            "\n",
            "==> WARNING: A newer version of conda exists. <==\n",
            "    current version: 23.11.0\n",
            "    latest version: 24.7.1\n",
            "\n",
            "Please update conda by running\n",
            "\n",
            "    $ conda update -n base -c conda-forge conda\n",
            "\n",
            "\n"
          ]
        }
      ],
      "source": [
        "print('📦 Installing conda dependencies ...')\n",
        "!conda install -c conda-forge rdkit pdbfixer > /dev/null"
      ]
    },
    {
      "cell_type": "code",
      "execution_count": null,
      "metadata": {
        "colab": {
          "background_save": true,
          "base_uri": "https://localhost:8080/"
        },
        "id": "3K6GbDXuu77o",
        "outputId": "42513fec-66b7-4a9c-d721-92c43f3c1949"
      },
      "outputs": [
        {
          "output_type": "stream",
          "name": "stdout",
          "text": [
            "🔥 Installing PyTorch and PyG ...\n"
          ]
        }
      ],
      "source": [
        "# @title Installing dependencies and packages (this might take around 20 minutes)\n",
        "print('🔥 Installing PyTorch and PyG ...')\n",
        "!pip install torch==1.13.1+cpu -f https://download.pytorch.org/whl/cpu/torch_stable.html > /dev/null\n",
        "!pip install torch-scatter -f https://data.pyg.org/whl/torch-1.13.1+cpu.html > /dev/null\n",
        "!pip install torch-sparse -f https://data.pyg.org/whl/torch-1.13.1+cpu.html > /dev/null\n",
        "!pip install torch-spline-conv torch-geometric==2.0.1 -f https://data.pyg.org/whl/torch-1.13.1+cpu.html > /dev/null\n",
        "!pip install cairosvg svgutils molvs > /dev/null\n",
        "# Install other dependencies\n",
        "!pip install rdkit-pypi\n",
        "!pip install Bio\n",
        "!pip install meeko\n",
        "!pip install paramiko\n",
        "!pip install easydock\n",
        "print('✔️ Installing pkasolver package ...')\n",
        "!pip install -q git+https://github.com/mayrf/pkasolver.git > /dev/null\n",
        "print(\"🎉 Done!\")"
      ]
    },
    {
      "cell_type": "code",
      "execution_count": null,
      "metadata": {
        "colab": {
          "background_save": true
        },
        "id": "78J0jA1fxtPB"
      },
      "outputs": [],
      "source": [
        "# @title Setup AutoDock Vina\n",
        "!wget https://github.com/ccsb-scripps/AutoDock-Vina/releases/download/v1.2.0/vina_1.2.0_linux_x86_64 -O vina\n",
        "!chmod u+x vina"
      ]
    },
    {
      "cell_type": "code",
      "execution_count": null,
      "metadata": {
        "id": "LkAAJy6f8ZLD"
      },
      "outputs": [],
      "source": [
        "# @title **Import Python modules**\n",
        "\n",
        "# Import modules\n",
        "import os\n",
        "import random\n",
        "import sys\n",
        "import numpy as np\n",
        "import pandas as pd\n",
        "from itertools import permutations, combinations\n",
        "from IPython.display import display, Image\n",
        "from rdkit.Chem import AllChem, Draw\n",
        "from rdkit import RDLogger\n",
        "import contextlib\n",
        "import csv\n",
        "from rdkit import Chem\n",
        "import shutil\n",
        "from pathlib import Path\n",
        "\n",
        "# protonation modules\n",
        "import tempfile\n",
        "\n",
        "# get pdb\n",
        "import requests\n",
        "import xml.etree.ElementTree as ET\n",
        "from Bio.PDB import PDBIO, PDBParser\n",
        "from Bio import PDB\n",
        "\n",
        "# PDBFixer\n",
        "from pdbfixer import PDBFixer\n",
        "from openmm.app import PDBFile\n",
        "\n",
        "\n",
        "# ligand preparation\n",
        "from easydock import preparation_for_docking\n",
        "from easydock import read_input\n",
        "from easydock import protonation\n",
        "\n",
        "\n",
        "# lipinski modules\n",
        "from rdkit.Chem.rdMolDescriptors import CalcNumLipinskiHBA, CalcNumLipinskiHBD, CalcExactMolWt, CalcCrippenDescriptors\n",
        "\n",
        "# Capture python output\n",
        "class Hide:\n",
        "  def __enter__(self):\n",
        "    self._original_stdout = sys.stdout\n",
        "    sys.stdout = open(os.devnull, \"w\")\n",
        "\n",
        "  def __exit__(self, exc_type, exc_val, exc_tb):\n",
        "    sys.stdout.close()\n",
        "    sys.stdout = self._original_stdout\n",
        "\n",
        "# Define common variables\n",
        "\n",
        "io = PDBIO()\n",
        "parser = PDBParser()\n",
        "\n",
        "print(\"> Installation done\")\n",
        "print(\"> Import done\")\n",
        "print(\"> Environment ready for docking\")"
      ]
    },
    {
      "cell_type": "code",
      "execution_count": null,
      "metadata": {
        "colab": {
          "background_save": true
        },
        "id": "DHO1-z3s8sGE"
      },
      "outputs": [],
      "source": [
        "# @title **Setup alias for Vina**\n",
        "\n",
        "%alias vina /content/vina\n",
        "\n",
        "print(\"> Alias '%Vina' created\")\n"
      ]
    },
    {
      "cell_type": "code",
      "execution_count": null,
      "metadata": {
        "id": "BJRmNHvyx3_2"
      },
      "outputs": [],
      "source": [
        "#@title **Enter the main smiles and respective uniprot id**\n",
        "\n",
        "SMILES = \"[O]c1c(C(N2CCN(CC2)C(C(c(c[nH]3)c4c3c(n5nc(C)nc5)ncc4OC)=O)=O)=O)cccc1\" #@param {type:\"string\"}\n",
        "PDB_ID = \"\" #@param {type:\"string\"}\n",
        "chain_in_PDB = None #@param\n",
        "uniprot = \"q9y006\" #@param {type:\"string\"}"
      ]
    },
    {
      "cell_type": "markdown",
      "metadata": {
        "id": "Fy3CjmPm_Nkx"
      },
      "source": [
        "---\n",
        "---\n",
        "# **Generating the Hybrids**\n",
        "\n",
        "The first step in this study is to have a set of structures of a given ligand, hybridized with proper amino acids. We utilize the RDKit library for molecular manipulations and EasyDock for docking simulations. The core component of this method is the LigandBuilder class, which handles the creation of peptide bonds, removal of extra hydrogens, and the generation of ligands.\n",
        "\n",
        "\n",
        "*This step is specifically designed for generating hybrids. If you're just interested in automatic docking feature, skip next three cells.*"
      ]
    },
    {
      "cell_type": "code",
      "execution_count": null,
      "metadata": {
        "id": "sXsDpeJ-ufQ7"
      },
      "outputs": [],
      "source": [
        "#@title **Choosing the Connection Point**\n",
        "\n",
        "def get_all_atoms_in_molecule(molecule):\n",
        "    \"\"\"\n",
        "    Get all atoms in the input molecule.\n",
        "\n",
        "    This should be done before anything to define your connection point.\n",
        "\n",
        "    Returns:\n",
        "        IPython.core.display.Image object: Image displaying the molecule with atom indices.\n",
        "    \"\"\"\n",
        "    # Create a drawing object with a specific size\n",
        "    d = Draw.MolDraw2DCairo(800, 800)\n",
        "    # Set the drawing options to show atom indices\n",
        "    d.drawOptions().addAtomIndices = True\n",
        "    # Draw the molecule\n",
        "    d.DrawMolecule(molecule)\n",
        "    d.FinishDrawing()\n",
        "    # Get the image data\n",
        "    data = d.GetDrawingText()\n",
        "    # Display the image in the notebook\n",
        "    return Image(data=data)\n",
        "\n",
        "# Create a molecule from SMILES\n",
        "molecule = Chem.MolFromSmiles(SMILES)\n",
        "# Display the molecule with atom indices\n",
        "display(get_all_atoms_in_molecule(molecule))\n",
        "\n",
        "ligand_smiles = []"
      ]
    },
    {
      "cell_type": "code",
      "execution_count": null,
      "metadata": {
        "id": "ty89NoYhDbdj"
      },
      "outputs": [],
      "source": [
        "#@title **Enter your connection point, amino acids and amino acid-like molecules**\n",
        "#note that you either can have one non-peptide entry in the \"other molecules\" or several peptides in multiple sections\n",
        "connection_site = 0 #@param\n",
        "# choose N or C terminal of the peptides for connection point\n",
        "# note that the connection site and the terminal should make chemical sense\n",
        "terminal = \"C\" #@param {type:\"string\"}\n",
        "L_sequence = \"RQK\" #@param {type:\"string\"}\n",
        "D_sequence = \"\" #@param {type:\"string\"}\n",
        "# provide a list\n",
        "other_molecules = [] #@param"
      ]
    },
    {
      "cell_type": "code",
      "execution_count": null,
      "metadata": {
        "id": "7l8TVy75C97L"
      },
      "outputs": [],
      "source": [
        "# @title **Building Ligand**\n",
        "from rdkit import Chem\n",
        "from rdkit.Chem import rdChemReactions\n",
        "\n",
        "logger = RDLogger.logger()\n",
        "logger.setLevel(RDLogger.CRITICAL)\n",
        "\n",
        "\n",
        "class LigandBuilder:\n",
        "    def __init__(self):\n",
        "        self.ligands = []\n",
        "\n",
        "\n",
        "    def create_peptide_bond(self, mol1, mol2):\n",
        "        \"\"\"\n",
        "        Create a peptide bond (amide bond) between two molecules.\n",
        "\n",
        "        Args:\n",
        "            mol1: First molecule.\n",
        "            mol2: Second molecule.\n",
        "\n",
        "        Returns:\n",
        "            Combined molecule with a peptide bond, or None if the reaction fails.\n",
        "        \"\"\"\n",
        "        # Define the reactions for creating a peptide bond\n",
        "        reactions_H = [\n",
        "            (Chem.MolFromSmarts(\"[C:1](=[O:2])[OH:3]\"), Chem.MolFromSmarts(\"[N:4]\"),\n",
        "            '[C:1](=[O:2])[OH:3].[N:4]>>[C:1](=[O:2])[N:4]'),\n",
        "            (Chem.MolFromSmarts(\"[N:4]\"), Chem.MolFromSmarts(\"[C:1](=[O:2])[OH:3]\"),\n",
        "            '[N:4].[C:1](=[O:2])[OH:3]>>[C:1](=[O:2])[N:4]')\n",
        "        ]\n",
        "        reactions_noH = [\n",
        "            (Chem.MolFromSmarts(\"[N:4]\"), Chem.MolFromSmarts(\"[C:1](=[O:2])[O:3]\"),\n",
        "            '[N:4].[C:1](=[O:2])[O:3]>>[C:1](=[O:2])[N:4]'),\n",
        "            (Chem.MolFromSmarts(\"[C:1](=[O:2])[O:3]\"), Chem.MolFromSmarts(\"[N:4]\"),\n",
        "            '[C:1](=[O:2])[O:3].[N:4]>>[C:1](=[O:2])[N:4]')\n",
        "        ]\n",
        "\n",
        "        try:\n",
        "            # First try reactions with -OH\n",
        "            for smarts1, smarts2, rxn_smarts in reactions_H:\n",
        "                if mol1.HasSubstructMatch(smarts1) and mol2.HasSubstructMatch(smarts2):\n",
        "                    rxn = rdChemReactions.ReactionFromSmarts(rxn_smarts)\n",
        "                    product_sets1 = rxn.RunReactants((mol1, mol2))\n",
        "                    products1 = [p[0] for p in product_sets1 if p]\n",
        "\n",
        "                    if products1:\n",
        "                        return products1[0]\n",
        "\n",
        "\n",
        "\n",
        "\n",
        "            # If no product found with -OH reactions, try reactions without -OH\n",
        "            for smarts1, smarts2, rxn_smarts in reactions_noH:\n",
        "                if mol1.HasSubstructMatch(smarts1) and mol2.HasSubstructMatch(smarts2):\n",
        "                    rxn = rdChemReactions.ReactionFromSmarts(rxn_smarts)\n",
        "                    product_sets3 = rxn.RunReactants((mol1, mol2))\n",
        "                    products3 = [p[0] for p in product_sets3 if p]\n",
        "\n",
        "                    if products3:\n",
        "                        return products3[0]\n",
        "\n",
        "\n",
        "\n",
        "            # If no product is found, return None\n",
        "            print(\"No suitable reaction found for the given molecules.\")\n",
        "            return None\n",
        "\n",
        "        except Exception as e:\n",
        "            print(f\"Error creating peptide bond: {e}\")\n",
        "            return None\n",
        "\n",
        "    def add_hydrogens_and_sanitize(self, mol):\n",
        "        try:\n",
        "            mol = AllChem.AddHs(mol)\n",
        "            Chem.SanitizeMol(mol)\n",
        "            return mol\n",
        "        except Exception as e:\n",
        "            print(f\"Error adding hydrogens or sanitizing molecule: {e}\")\n",
        "            return None\n",
        "\n",
        "\n",
        "    def remove_extra_hydrogens(self, mol):\n",
        "        # Remove all hydrogens\n",
        "        mol = Chem.RemoveHs(mol, sanitize=False)\n",
        "\n",
        "        for atom in mol.GetAtoms():\n",
        "            if atom.GetSymbol() == 'N':\n",
        "                valence = atom.GetTotalValence()\n",
        "                # Nitrogen typically has a valence of 3 (three bonds)\n",
        "                target_valence = 3\n",
        "                # Calculate the number of explicit hydrogens needed\n",
        "                explicit_hs_needed = target_valence - valence\n",
        "                if explicit_hs_needed < 0:\n",
        "                    explicit_hs_needed = 0\n",
        "                # Add hydrogen atoms only to nitrogen atoms\n",
        "                atom.SetNumExplicitHs(explicit_hs_needed)\n",
        "                # Clear any lone pairs and radicals associated with the nitrogen atom\n",
        "                atom.SetNumRadicalElectrons(0)\n",
        "                atom.SetNoImplicit(True)\n",
        "\n",
        "\n",
        "        return mol\n",
        "\n",
        "    def handle_N_heterocycles(self, mol):\n",
        "        if mol.HasSubstructMatch(Chem.MolFromSmarts(\"[#6]12:[#6]:[#6]:[#6]:[#6]:[#6]:1:[#6]:[#6]:[#7]:2\")):\n",
        "            # Get the atoms matching the SMARTS pattern\n",
        "            matches = mol.GetSubstructMatches(Chem.MolFromSmarts(\"[#6]12:[#6]:[#6]:[#6]:[#6]:[#6]:1:[#6]:[#6]:[#7]:2\"))\n",
        "            for match in matches:\n",
        "                # Get the nitrogen atom index from the match\n",
        "                nitrogen_index = match[-1]  # Last atom in the match corresponds to the nitrogen atom\n",
        "                # Add one explicit hydrogen to the nitrogen atom\n",
        "                if mol.GetAtomWithIdx(nitrogen_index).GetTotalDegree() == 2:\n",
        "                  mol.GetAtomWithIdx(nitrogen_index).SetNumExplicitHs(1)\n",
        "\n",
        "\n",
        "        if mol.HasSubstructMatch(Chem.MolFromSmarts(\"[#6]1:[#7]:[#6]:[#7]:[#6]:1\")):\n",
        "            matches = mol.GetSubstructMatches(Chem.MolFromSmarts(\"[#6]1:[#7]:[#6]:[#7]:[#6]:1\"))\n",
        "            for match in matches:\n",
        "                # Get the nitrogen atom index from the match\n",
        "                nitrogen_index = match[-2]  # Last atom in the match corresponds to the nitrogen atom\n",
        "                # Add one explicit hydrogen to the nitrogen atom\n",
        "                if mol.GetAtomWithIdx(nitrogen_index).GetTotalDegree() == 2:\n",
        "                  mol.GetAtomWithIdx(nitrogen_index).SetNumExplicitHs(1)\n",
        "                  break\n",
        "        if mol.HasSubstructMatch(Chem.MolFromSmarts(\"[#6]1:[#6]:[#7]:[#6]:[#6]:1\")):\n",
        "            matches = mol.GetSubstructMatches(Chem.MolFromSmarts(\"[#6]1:[#6]:[#7]:[#6]:[#6]:1\"))\n",
        "            for match in matches:\n",
        "                # Get the nitrogen atom index from the match\n",
        "                nitrogen_index = match[-3]  # Last atom in the match corresponds to the nitrogen atom\n",
        "                # Add one explicit hydrogen to the nitrogen atom\n",
        "                if mol.GetAtomWithIdx(nitrogen_index).GetTotalDegree() == 2:\n",
        "                  mol.GetAtomWithIdx(nitrogen_index).SetNumExplicitHs(1)\n",
        "\n",
        "        if mol.HasSubstructMatch(Chem.MolFromSmarts(\"[#6]12:[#7]:[#6]:[#7]:[#6]:[#6]:1:[#7]:[#6]:[#7]:2\")):\n",
        "            matches = mol.GetSubstructMatches(Chem.MolFromSmarts(\"[#6]12:[#7]:[#6]:[#7]:[#6]:[#6]:1:[#7]:[#6]:[#7]:2\"))\n",
        "            for match in matches:\n",
        "                # Get the nitrogen atom index from the match\n",
        "                nitrogen_index = match[-1]  # Last atom in the match corresponds to the nitrogen atom\n",
        "                # Add one explicit hydrogen to the nitrogen atom\n",
        "                if mol.GetAtomWithIdx(nitrogen_index).GetTotalDegree() == 2:\n",
        "                  mol.GetAtomWithIdx(nitrogen_index).SetNumExplicitHs(1)\n",
        "\n",
        "        if mol.HasSubstructMatch(Chem.MolFromSmarts(\"[#6]1:[#7]:[#7]:[#7]:[#6]:1\")):\n",
        "            matches = mol.GetSubstructMatches(Chem.MolFromSmarts(\"[#6]1:[#7]:[#7]:[#7]:[#6]:1\"))\n",
        "            for match in matches:\n",
        "                # Get the nitrogen atom index from the match\n",
        "                nitrogen_index = match[-2]  # Last atom in the match corresponds to the nitrogen atom\n",
        "                # Add one explicit hydrogen to the nitrogen atom\n",
        "                if mol.GetAtomWithIdx(nitrogen_index).GetTotalDegree() == 2:\n",
        "                  mol.GetAtomWithIdx(nitrogen_index).SetNumExplicitHs(1)\n",
        "\n",
        "\n",
        "        if mol.HasSubstructMatch(Chem.MolFromSmarts(\"[#6]1:[#7]:[#7]:[#7]:[#7]:1\")):\n",
        "            matches = mol.GetSubstructMatches(Chem.MolFromSmarts(\"[#6]1:[#7]:[#7]:[#7]:[#7]:1\"))\n",
        "            for match in matches:\n",
        "                # Get the nitrogen atom index from the match\n",
        "                nitrogen_index = match[-1]  # Last atom in the match corresponds to the nitrogen atom\n",
        "                # Add one explicit hydrogen to the nitrogen atom\n",
        "                if mol.GetAtomWithIdx(nitrogen_index).GetTotalDegree() == 2:\n",
        "                  mol.GetAtomWithIdx(nitrogen_index).SetNumExplicitHs(1)\n",
        "\n",
        "        if mol.HasSubstructMatch(Chem.MolFromSmarts(\"[#6]1:[#6]:[#7]:[#7]:[#6]:1\")):\n",
        "            # Get the atoms matching the SMARTS pattern\n",
        "            matches = mol.GetSubstructMatches(Chem.MolFromSmarts(\"[#6]1:[#6]:[#7]:[#7]:[#6]:1\"))\n",
        "            for match in matches:\n",
        "                # Get the nitrogen atom index from the match\n",
        "                nitrogen_index = match[-2]  # Last atom in the match corresponds to the nitrogen atom\n",
        "                # Add one explicit hydrogen to the nitrogen atom\n",
        "                if mol.GetAtomWithIdx(nitrogen_index).GetTotalDegree() == 2:\n",
        "                  mol.GetAtomWithIdx(nitrogen_index).SetNumExplicitHs(1)\n",
        "        return mol\n",
        "\n",
        "    def input_amino_acids(self, l_sequence, d_sequence, other_aminoacids):\n",
        "        \"\"\"\n",
        "        Input amino acids from strings of L- and D-sequences and create all combinations with peptide bonds.\n",
        "\n",
        "        Args:\n",
        "            l_sequence (str): sequence representing L-amino acids.\n",
        "            d_sequence (str): sequence representing D-amino acids.\n",
        "            other_aminoacids (list): other amino acids or molecules\n",
        "        \"\"\"\n",
        "        # Create RDKit molecules from L- and D-sequences\n",
        "        l_mols = [Chem.rdmolfiles.MolFromFASTA(f'>{aa.upper()}\\n{aa.upper()}') for aa in l_sequence if aa]\n",
        "        d_mols = [Chem.rdmolfiles.MolFromFASTA(f'>{aa.lower()}\\n{aa.lower()}', flavor=1) for aa in d_sequence if aa]\n",
        "        other_mols = [self.add_hydrogens_and_sanitize(Chem.MolFromSmiles(n)) for n in other_aminoacids if n]\n",
        "        ohter_smiles = [Chem.MolToSmiles(n) for n in other_mols]\n",
        "        print(ohter_smiles)\n",
        "\n",
        "        all_mols = []\n",
        "        if l_mols:\n",
        "            all_mols.extend(l_mols)\n",
        "        if d_mols:\n",
        "            all_mols.extend(d_mols)\n",
        "        if other_mols:\n",
        "            all_mols.extend(other_mols)\n",
        "\n",
        "        # Create all combinations and permutations of the molecules\n",
        "        unique_smiles = set()\n",
        "        self.amino_acid_arrangements = []\n",
        "        for r in range(1, len(all_mols) + 1):\n",
        "            for combo in combinations(all_mols, r):\n",
        "                for perm in permutations(combo):\n",
        "                    # Create a peptide chain by adding peptide bonds\n",
        "                    peptide = perm[0]\n",
        "                    for mol in perm[1:]:\n",
        "                      peptide = self.create_peptide_bond(peptide, mol)\n",
        "\n",
        "                    try:\n",
        "                      # Sanitize the molecule\n",
        "                      Chem.SanitizeMol(peptide)\n",
        "\n",
        "                      # Add hydrogens\n",
        "                      peptide = Chem.AddHs(peptide)\n",
        "\n",
        "                      # Get the canonical SMILES string of the combined molecule\n",
        "                      smiles = Chem.MolToSmiles(peptide, isomericSmiles=True)\n",
        "\n",
        "                      # Add to the set if it's unique\n",
        "                      if smiles not in unique_smiles:\n",
        "                          unique_smiles.add(smiles)\n",
        "                          self.amino_acid_arrangements.append(peptide)\n",
        "                    except Exception as e:\n",
        "                      print('finding right molecule combinations...')\n",
        "\n",
        "\n",
        "    def input_molecule(self, molecule_smiles):\n",
        "        \"\"\"\n",
        "        Input a molecule structure from a SMILES string.\n",
        "\n",
        "        Args:\n",
        "            molecule_smiles (str): SMILES string of the molecule.\n",
        "        \"\"\"\n",
        "        try:\n",
        "            self.molecule = Chem.MolFromSmiles(molecule_smiles)\n",
        "            Chem.SanitizeMol(self.molecule)  # Ensure the molecule is sanitized\n",
        "            AllChem.Compute2DCoords(self.molecule)\n",
        "        except Exception as e:\n",
        "            raise ValueError(\"Error reading SMILES string:\", e)\n",
        "\n",
        "    def find_connection_points(self, molecule, smarts_pattern=\"[NH2,NH]\"):\n",
        "        \"\"\"\n",
        "        Find all atom indices matching the SMARTS pattern in the given molecule.\n",
        "\n",
        "        Args:\n",
        "            molecule (RDKit Mol object): Molecule to search.\n",
        "            smarts_pattern (str): SMARTS pattern to match.\n",
        "\n",
        "        Returns:\n",
        "            List of atom indices.\n",
        "        \"\"\"\n",
        "        query = Chem.MolFromSmarts(smarts_pattern)\n",
        "        if query is None:\n",
        "            raise ValueError(f\"Invalid SMARTS pattern: {smarts_pattern}\")\n",
        "\n",
        "        matches = molecule.GetSubstructMatches(query)\n",
        "        connection_points = [match[0] for match in matches]\n",
        "        return connection_points\n",
        "\n",
        "    def AddCs(self, connection_site):\n",
        "        Chem.SanitizeMol(self.molecule)\n",
        "        edit_mol = Chem.EditableMol(self.molecule)\n",
        "        edit_mol.AddAtom(Chem.Atom(55))  # 55 is the atomic number for Cesium\n",
        "        edit_mol.AddBond(connection_site, self.molecule.GetNumAtoms(), Chem.BondType.SINGLE)\n",
        "        self.molecule = edit_mol.GetMol()\n",
        "        Chem.RemoveHs(self.molecule, sanitize = False)\n",
        "        return self.molecule\n",
        "\n",
        "    def generate_ligands(self, connection_site, terminal):\n",
        "        \"\"\"\n",
        "        Generate all possible ligand arrangements from the input amino acids and molecule.\n",
        "\n",
        "        Args:\n",
        "            connection_site (int): index of the atom in your ligand which the amino acid\n",
        "                                   sequence will be attached to\n",
        "            terminal (str): should be either C or N. C if you want your peptide to attach\n",
        "                            from C terminal and N if you want it to attach from N terminal.\n",
        "        \"\"\"\n",
        "        if not hasattr(self, 'amino_acid_arrangements') or not hasattr(self, 'molecule'):\n",
        "            raise ValueError(\"Amino acids and molecule must be input before generating ligands.\")\n",
        "\n",
        "        if terminal == 'C':\n",
        "            # Generate ligands by combining amino acids with the molecule\n",
        "            self.ligands = []\n",
        "            for arrangement in self.amino_acid_arrangements:\n",
        "                # Copy the molecule\n",
        "                ligand = Chem.Mol(self.molecule)\n",
        "                # Define SMARTS patterns for relevant functional groups\n",
        "\n",
        "                replacement_result = Chem.ReplaceSubstructs(arrangement, Chem.MolFromSmarts(\"[OH]\"), ligand,\n",
        "                                                            replacementConnectionPoint=connection_site)\n",
        "                self.ligands.append(replacement_result)\n",
        "        elif terminal == 'N':\n",
        "            ModifiedLigand = self.AddCs(connection_site)\n",
        "            self.ligands = []\n",
        "            for arrangement in self.amino_acid_arrangements:\n",
        "                connection_points = self.find_connection_points(arrangement)\n",
        "                for connection_point in connection_points:\n",
        "                    # Copy the molecule\n",
        "                    ligand = Chem.Mol(ModifiedLigand)\n",
        "                    # Define SMARTS patterns for relevant functional groups\n",
        "                    # Choose \"[Cs]\", \"[OCs]\", etc. to be replaced. If you need any other substructure, feel free to include it.\n",
        "\n",
        "                    replacement_result = Chem.ReplaceSubstructs(ligand, Chem.MolFromSmarts(\"[Cs]\"), arrangement,\n",
        "                                                                replacementConnectionPoint=connection_point)\n",
        "                    self.ligands.append(replacement_result)\n",
        "        else:\n",
        "            raise ValueError(\"The argument terminal should be either C or N.\")\n",
        "\n",
        "        self.ligand_smiles = []\n",
        "        for i, ligand_tuple in enumerate(self.ligands):\n",
        "            for ligand in ligand_tuple:\n",
        "              if ligand != \"\":\n",
        "                ligand = self.remove_extra_hydrogens(ligand)\n",
        "                ligand = self.handle_N_heterocycles(ligand)\n",
        "                Chem.SanitizeMol(ligand)\n",
        "                smiles = Chem.MolToSmiles(ligand)\n",
        "                print(\"1 new ligand smiles generated.\")\n",
        "                self.ligand_smiles.append(smiles)\n",
        "        return self.ligand_smiles\n",
        "\n",
        "\n",
        "# Example usage\n",
        "\n",
        "\n",
        "builder = LigandBuilder()\n",
        "\n",
        "# Process the input\n",
        "builder.input_amino_acids(L_sequence, D_sequence, other_molecules)\n",
        "builder.input_molecule(SMILES)\n",
        "\n",
        "# Generate ligands\n",
        "ligand_smiles = builder.generate_ligands(connection_site, terminal)\n",
        "print(f\"{len(ligand_smiles)} ligands generated.\")\n",
        "\n",
        "for i in ligand_smiles:\n",
        "  print(i)\n"
      ]
    },
    {
      "cell_type": "code",
      "execution_count": null,
      "metadata": {
        "id": "QWMifgAsm08q"
      },
      "outputs": [],
      "source": [
        "#@title if you don't want to make hybrids and just want to dock original ligand, run this.\n",
        "if not ligand_smiles:\n",
        "  ligand_smiles = [SMILES]"
      ]
    },
    {
      "cell_type": "code",
      "execution_count": null,
      "metadata": {
        "colab": {
          "base_uri": "https://localhost:8080/",
          "height": 917
        },
        "id": "fPhJbMT2H0GS",
        "outputId": "46c57f3d-af2b-454e-a047-27df28a810b6"
      },
      "outputs": [
        {
          "data": {
            "image/png": "[encoded data removed]",
            "text/plain": [
              "<PIL.PngImagePlugin.PngImageFile image mode=RGB size=900x900>"
            ]
          },
          "execution_count": 21,
          "metadata": {},
          "output_type": "execute_result"
        }
      ],
      "source": [
        "#@title **display an example**\n",
        "\n",
        "# Select a random SMILE from the list\n",
        "random_smile = random.choice(ligand_smiles)\n",
        "\n",
        "# Create a molecule object from the SMILE\n",
        "molecule = Chem.MolFromSmiles(ligand_smiles[16])\n",
        "\n",
        "# Display the molecule\n",
        "Draw.MolToImage(molecule, size=(900, 900))\n"
      ]
    },
    {
      "cell_type": "code",
      "execution_count": null,
      "metadata": {
        "colab": {
          "base_uri": "https://localhost:8080/"
        },
        "id": "CF46Y2BKVd3-",
        "outputId": "4646d63d-1b44-4d8c-99bc-790b0b6c1c90"
      },
      "outputs": [
        {
          "name": "stdout",
          "output_type": "stream",
          "text": [
            "> /content/3CGT_docking was successfully created\n",
            "> /content/3CGT_docking/protein was successfully created\n",
            "> /content/3CGT_docking/ligand was successfully created\n",
            "> /content/3CGT_docking/docking was successfully created\n"
          ]
        }
      ],
      "source": [
        "if uniprot:\n",
        "  Jobname = f\"{uniprot}_docking\"\n",
        "else:\n",
        "  Jobname = f\"{PDB_ID}_docking\"\n",
        "dir = os.path.abspath(\".\")\n",
        "work_dir = os.path.join(dir, Jobname)\n",
        "protein_folder = os.path.join(work_dir, \"protein\")\n",
        "ligand_folder = os.path.join(work_dir, \"ligand\")\n",
        "experimental_folder = os.path.join(work_dir, \"experimental\")\n",
        "docking_folder = os.path.join(work_dir, \"docking\")\n",
        "\n",
        "\n",
        "# Create folder if folder have not exists\n",
        "folder = [work_dir, protein_folder, ligand_folder, docking_folder]\n",
        "for f in folder:\n",
        "  if os.path.exists(f):\n",
        "    print(\"> %s already exists\" % f)\n",
        "  if not os.path.exists(f):\n",
        "    os.mkdir(f)\n",
        "    print(\"> %s was successfully created\" % f)"
      ]
    },
    {
      "cell_type": "markdown",
      "metadata": {
        "id": "xwfKXQVbuvcv"
      },
      "source": [
        "---\n",
        "---\n",
        "# **Preparing the Protein**\n",
        "\n",
        "The first step in docking is to have a structure of a given target protein. While in some cases a high-quality comparative model will be used, most cases start with an experimentally (X-ray, NMR, cryoEM) solved three-dimensional structure. We can either use uniprot API to select the PDB file and chain or enter them directly.\n",
        "In these cases, a given target protein structure can be downloaded with BioPython using a given accession ID.  We can directly download this structure in `.pdb` file format.\n",
        "\n",
        "In addition, we calculate the centroid of the chain in this step, in order to use in further calculations."
      ]
    },
    {
      "cell_type": "code",
      "execution_count": null,
      "metadata": {
        "colab": {
          "base_uri": "https://localhost:8080/"
        },
        "id": "DO8IOLRyvT5g",
        "outputId": "10bd5332-5841-4c92-9af2-7559fe0e97cd"
      },
      "outputs": [
        {
          "name": "stdout",
          "output_type": "stream",
          "text": [
            "Processing PDB ID 3QVC with chain A...\n",
            "Downloading PDB structure '3qvc'...\n",
            "Extracting chain A from 3QVC...\n",
            "Other chain removed ...\n",
            "Het atoms removed and centroid added...\n",
            "PDB file fixed in /content/3CGT_docking/protein/receptor_3QVC_A-cl-fixed.pdb\n"
          ]
        }
      ],
      "source": [
        "# get pdb\n",
        "import requests\n",
        "import xml.etree.ElementTree as ET\n",
        "from Bio.PDB import PDBIO, PDBParser\n",
        "from Bio import PDB\n",
        "from pdbfixer import PDBFixer\n",
        "from openmm.app import PDBFile\n",
        "import pandas as pd\n",
        "import os\n",
        "import numpy as np\n",
        "import shutil\n",
        "\n",
        "class SelectChains(PDB.Select):\n",
        "    \"\"\"Accepts or rejects chains based on their chain IDs.\"\"\"\n",
        "    def __init__(self, chain_letters):\n",
        "        \"\"\"Initialize with a list of chain IDs to accept.\"\"\"\n",
        "        self.chain_letters = chain_letters\n",
        "\n",
        "    def accept_chain(self, chain):\n",
        "        \"\"\"Accepts a chain if its ID is in the list of accepted IDs.\"\"\"\n",
        "        return chain.get_id() in self.chain_letters\n",
        "\n",
        "class Get_PDB:\n",
        "    \"\"\"Class for fetching and processing PDB files.\"\"\"\n",
        "    def __init__(self, directory, uniprot_id=None, pdb_id=None, chain=None):\n",
        "        \"\"\"Initialize with directory path and optional UniProt ID, PDB ID, and chain ID.\"\"\"\n",
        "        self.uniprot_id = uniprot_id\n",
        "        self.pdb_id = pdb_id\n",
        "        self.chain = chain\n",
        "        self.directory = directory\n",
        "        self.PDB_DOWNLOAD_PATH = os.path.join(directory, \"pdbs\")\n",
        "        self.CLEAN_PDBS_PATH = directory\n",
        "        os.makedirs(self.PDB_DOWNLOAD_PATH, exist_ok=True)\n",
        "        os.makedirs(self.CLEAN_PDBS_PATH, exist_ok=True)\n",
        "\n",
        "    def fetch_uniprot_data(self):\n",
        "        \"\"\"Fetch UniProt data for a given UniProt ID.\"\"\"\n",
        "        if not self.uniprot_id:\n",
        "            return None\n",
        "        url = f\"https://www.uniprot.org/uniprot/{self.uniprot_id}.xml\"\n",
        "        response = requests.get(url)\n",
        "        if response.status_code == 200:\n",
        "            return response.text\n",
        "        else:\n",
        "            print(f\"Error fetching data from UniProt: {response.status_code}\")\n",
        "            return None\n",
        "\n",
        "    def parse_pdb_entries(self, xml_data):\n",
        "        \"\"\"Parse PDB entries from UniProt XML data.\"\"\"\n",
        "        root = ET.fromstring(xml_data)\n",
        "        pdbs = []\n",
        "        for db_ref in root.findall(\".//{http://uniprot.org/uniprot}dbReference[@type='PDB']\"):\n",
        "            pdb = db_ref.attrib['id']\n",
        "            method_element = db_ref.find(\".//{http://uniprot.org/uniprot}property[@type='method']\")\n",
        "            resolution_element = db_ref.find(\".//{http://uniprot.org/uniprot}property[@type='resolution']\")\n",
        "            chains_element = db_ref.find(\".//{http://uniprot.org/uniprot}property[@type='chains']\")\n",
        "            if method_element is not None and resolution_element is not None:\n",
        "                method = method_element.attrib['value']\n",
        "                resolution = float(resolution_element.attrib['value'].split()[0])\n",
        "                chain_details = self.parse_chain_details(chains_element)\n",
        "                if chain_details:\n",
        "                    chain_details.sort(key=lambda x: x[1], reverse=True)\n",
        "                    pdbs.append((pdb, chain_details[0][0], chain_details[0][1], resolution, method))\n",
        "                else:\n",
        "                    pdbs.append((pdb, 'NA', 0, resolution, method))\n",
        "        return pdbs\n",
        "\n",
        "    def parse_chain_details(self, chains_element):\n",
        "        \"\"\"Parse chain details from UniProt XML data.\"\"\"\n",
        "        chain_details = []\n",
        "        if chains_element is not None:\n",
        "            chains_info = chains_element.attrib['value'].split(',')\n",
        "            for chain_detail in chains_info:\n",
        "                try:\n",
        "                    chain, range_ = chain_detail.strip().split('=')\n",
        "                    chain = chain.split('/')[0]\n",
        "                    start, end = range_.split('-')\n",
        "                    aa_count = int(end) - int(start) + 1\n",
        "                    chain_details.append((chain, aa_count))\n",
        "                except ValueError:\n",
        "                    print(f\"Skipping chain detail due to unexpected format: {chain_detail}\")\n",
        "        return chain_details\n",
        "\n",
        "    def select_best_pdb(self, pdbs):\n",
        "        \"\"\"Select the best PDB entry based on chain length and resolution.\"\"\"\n",
        "        if not pdbs:\n",
        "            return None\n",
        "        pdbs.sort(key=lambda x: (-x[2], x[3]))\n",
        "        return pdbs[0]\n",
        "\n",
        "    def process_uniprot_id(self):\n",
        "        \"\"\"Process UniProt ID, fetch PDB data, and select the best PDB entry.\"\"\"\n",
        "        xml_data = self.fetch_uniprot_data()\n",
        "        if xml_data:\n",
        "            pdbs = self.parse_pdb_entries(xml_data)\n",
        "            if pdbs:\n",
        "                return self.select_best_pdb(pdbs)\n",
        "        return None\n",
        "\n",
        "    def calculate_centroid(self, structure):\n",
        "        \"\"\"Calculate the centroid of a PDB structure.\"\"\"\n",
        "        atom_coords = [atom.get_coord() for atom in structure.get_atoms()]\n",
        "        return np.mean(atom_coords, axis=0)\n",
        "\n",
        "    def make_pdb(self, pdb_path, chain_letters, base_dir=None, overwrite=True, struct=None):\n",
        "        \"\"\"Extract a specific chain from a PDB file and save it to a temporary directory.\"\"\"\n",
        "        self.parser = PDB.PDBParser()\n",
        "        self.writer = PDB.PDBIO()\n",
        "        self.base_dir = base_dir if base_dir else self.directory\n",
        "        if isinstance(chain_letters, str):\n",
        "            chain_letters = [chain_letters]  # Ensure it's iterable\n",
        "\n",
        "        out_name = f\"{self.pdb_id}_{''.join(chain_letters)}.ent\"\n",
        "        out_path = os.path.join(self.base_dir, \"pdbs\", out_name)  # Temporary outputs to directory/pdbs\n",
        "\n",
        "        if not overwrite and os.path.exists(out_path):\n",
        "            print(f\"Chain {','.join(chain_letters)} of '{self.pdb_id}' already extracted to '{out_name}'.\")\n",
        "            return out_path\n",
        "\n",
        "        print(f\"Extracting chain {','.join(chain_letters)} from {self.pdb_id}...\")\n",
        "        if struct is None:\n",
        "            struct = self.parser.get_structure(self.pdb_id, pdb_path)\n",
        "\n",
        "        self.writer.set_structure(struct)\n",
        "        self.writer.save(out_path, select=SelectChains(chain_letters))\n",
        "        print(\"Other chain removed ...\")\n",
        "\n",
        "        pdb = self.parser.get_structure(self.pdb_id, out_path)\n",
        "        io = PDB.PDBIO()\n",
        "        io.set_structure(pdb)\n",
        "        clean_path = os.path.join(self.CLEAN_PDBS_PATH,\n",
        "                                  f\"receptor_{self.pdb_id}_{''.join(chain_letters)}-cl.pdb\")  # Final output to CLEAN_PDBS_PATH\n",
        "        io.save(clean_path)\n",
        "\n",
        "        struct = self.parser.get_structure(self.pdb_id, clean_path)\n",
        "        centroid = self.calculate_centroid(struct)\n",
        "        centroid_info = f\"REMARK Centroid X: {centroid[0]:.3f} Y: {centroid[1]:.3f} Z: {centroid[2]:.3f}\\n\" # add centroid to PDB file\n",
        "\n",
        "        with open(clean_path, 'r+') as file:\n",
        "            content = file.readlines()\n",
        "            content.insert(0, centroid_info)\n",
        "            file.seek(0)\n",
        "            file.writelines(content)\n",
        "\n",
        "        print(\"Het atoms removed and centroid added...\")\n",
        "        return clean_path, self.CLEAN_PDBS_PATH, centroid\n",
        "\n",
        "\n",
        "    def pdbfixer(self, clean_path, CLEAN_PDBS_PATH, centroid):\n",
        "        \"\"\"Use PDBFixer to fix missing atoms and residues in a PDB file.\"\"\"\n",
        "        fixer = PDBFixer(filename=clean_path)\n",
        "        fixer.findMissingResidues()\n",
        "        fixer.findNonstandardResidues()\n",
        "        fixer.replaceNonstandardResidues()\n",
        "        fixer.removeHeterogens(False)\n",
        "        fixer.findMissingAtoms()\n",
        "        fixer.addMissingAtoms()\n",
        "        fixed_path = os.path.join(CLEAN_PDBS_PATH, f\"{os.path.basename(clean_path).split('.')[0]}-fixed.pdb\")\n",
        "        PDBFile.writeFile(fixer.topology, fixer.positions, open(fixed_path, 'w'))\n",
        "\n",
        "        centroid_info = f\"REMARK Centroid X: {centroid[0]:.3f} Y: {centroid[1]:.3f} Z: {centroid[2]:.3f}\\n\"\n",
        "        with open(fixed_path, 'r+') as file:\n",
        "            content = file.readlines()\n",
        "            content.insert(0, centroid_info)\n",
        "            file.seek(0)\n",
        "            file.writelines(content)\n",
        "\n",
        "        print(f\"PDB file fixed in {fixed_path}\")\n",
        "\n",
        "    def get_pdb_from_uniprot(self):\n",
        "        pdb_data = self.process_uniprot_id()\n",
        "        if not pdb_data:\n",
        "            print(\"Skipping entry because of missing PDB data.\")\n",
        "            return None, None\n",
        "\n",
        "        self.pdb_id, self.chain = pdb_data[:2]\n",
        "\n",
        "        if not self.pdb_id or not self.chain:\n",
        "            print(\"Skipping entry because of missing PDB ID or Chain.\")\n",
        "            return None, None\n",
        "        else:\n",
        "            print(f\"Processing PDB ID {self.pdb_id} with chain {self.chain}...\")\n",
        "            try:\n",
        "                pdb_fn =  PDB.PDBList().retrieve_pdb_file(self.pdb_id, pdir=self.PDB_DOWNLOAD_PATH, file_format='pdb')\n",
        "                clean_path, CLEAN_PDBS_PATH, centroid = self.make_pdb(pdb_fn, self.chain)\n",
        "                self.pdbfixer(clean_path, self.CLEAN_PDBS_PATH, centroid)\n",
        "                return self.pdb_id, self.chain\n",
        "            except Exception as e:\n",
        "                print(f\"Error processing PDB ID {self.pdb_id} with chain {self.chain}: {e}\")\n",
        "                return None, None\n",
        "\n",
        "\n",
        "    def get_pdb_from_PDB(self):\n",
        "        if not self.pdb_id or not self.chain:\n",
        "            print(\"Skipping entry because no PDB or chain was enterd.\")\n",
        "            return None, None\n",
        "        else:\n",
        "            print(f\"Processing PDB ID {self.pdb_id} with chain {self.chain}...\")\n",
        "            try:\n",
        "                pdb_fn =  PDB.PDBList().retrieve_pdb_file(self.pdb_id, pdir=self.PDB_DOWNLOAD_PATH, file_format='pdb')\n",
        "                clean_path, CLEAN_PDBS_PATH, centroid = self.make_pdb(pdb_fn, self.chain)\n",
        "                self.pdbfixer(clean_path, self.CLEAN_PDBS_PATH, centroid)\n",
        "                return self.pdb_id, self.chain\n",
        "            except Exception as e:\n",
        "                print(f\"Error processing PDB ID {self.pdb_id} with chain {self.chain}: {e}\")\n",
        "                return None, None\n",
        "\n",
        "\n",
        "# get_pdb_instance = Get_PDB(directory=protein_folder, uniprot_id=uniprot, pdb_id=PDB_ID, chain=chain_in_PDB)\n",
        "# PDB_ID, chain = get_pdb_instance.get_pdb_from_PDB()\n",
        "get_pdb_instance = Get_PDB(directory=protein_folder, uniprot_id=uniprot)\n",
        "PDB_ID, chain = get_pdb_instance.get_pdb_from_uniprot()\n"
      ]
    },
    {
      "cell_type": "markdown",
      "metadata": {
        "id": "T0HzThy2XEXd"
      },
      "source": [
        "---\n",
        "---\n",
        "# **Preparing the Ligand with easydock**\n",
        "We now need to prepare the ligand that will be used for docking analysis. We will attempt to predict the docking pose onto the binding of target protein.\n"
      ]
    },
    {
      "cell_type": "code",
      "execution_count": null,
      "metadata": {
        "colab": {
          "base_uri": "https://localhost:8080/"
        },
        "id": "tFRC7Kdg7rsb",
        "outputId": "62566a94-88ee-46b4-c04b-e5a1ae62bb3d"
      },
      "outputs": [
        {
          "name": "stderr",
          "output_type": "stream",
          "text": [
            "Failed to find the pandas get_adjustment() function to patch\n",
            "Failed to patch pandas - PandasTools will have limited functionality\n",
            "Failed to patch pandas - unable to change molecule rendering\n",
            "[query.py:297 - calculate_microstate_pka_values()] Using dimorphite-dl to identify protonation sites.\n",
            "/usr/local/lib/python3.10/site-packages/pkasolver/query.py:121: DeprecationWarning: Conversion of an array with ndim > 0 to a scalar is deprecated, and will error in future. Ensure you extract a single element from your array before performing this operation. (Deprecated NumPy 1.25.)\n",
            "  float(np.average(consensus_r, axis=0)),\n",
            "/usr/local/lib/python3.10/site-packages/pkasolver/query.py:122: DeprecationWarning: Conversion of an array with ndim > 0 to a scalar is deprecated, and will error in future. Ensure you extract a single element from your array before performing this operation. (Deprecated NumPy 1.25.)\n",
            "  float(np.std(consensus_r, axis=0)),\n"
          ]
        }
      ],
      "source": [
        "#@title protonation loop\n",
        "# Create temporary files with proper extensions\n",
        "tmp_input_path = tempfile.NamedTemporaryFile(suffix=\".smi\", delete=False).name\n",
        "tmp_output_path = tempfile.NamedTemporaryFile(suffix=\".smi\", delete=False).name\n",
        "\n",
        "protonated_smiles = []\n",
        "for ligand in ligand_smiles:\n",
        "  # Write SMILES to input file\n",
        "  with open(tmp_input_path, 'w') as tmp_input:\n",
        "      tmp_input.write(ligand + '\\n')  # Ensure correct format for SMILES\n",
        "\n",
        "  # Protonate using PKASolver\n",
        "  protonation.protonate_pkasolver(tmp_input_path, tmp_output_path)\n",
        "\n",
        "  # Read protonated molecule from output file\n",
        "  with open(tmp_output_path, 'r') as tmp_output:\n",
        "      protonated_smile = tmp_output.read().strip()\n",
        "      protonated_smiles.append(protonated_smile)"
      ]
    },
    {
      "cell_type": "code",
      "execution_count": null,
      "metadata": {
        "colab": {
          "base_uri": "https://localhost:8080/",
          "height": 917
        },
        "id": "zaU7m04MU92S",
        "outputId": "162ed4cc-b1a3-4f43-ffea-6b566af3fdab"
      },
      "outputs": [
        {
          "data": {
            "image/png": "[encoded data removed]",
            "text/plain": [
              "<PIL.PngImagePlugin.PngImageFile image mode=RGB size=900x900>"
            ]
          },
          "execution_count": 22,
          "metadata": {},
          "output_type": "execute_result"
        }
      ],
      "source": [
        "#@title **display an example**\n",
        "\n",
        "# Select a random SMILE from the list\n",
        "random_smile = random.choice(protonated_smiles)\n",
        "\n",
        "# Create a molecule object from the SMILE\n",
        "molecule = Chem.MolFromSmiles(random_smile)\n",
        "\n",
        "# Display the molecule\n",
        "Draw.MolToImage(molecule, size=(900, 900))"
      ]
    },
    {
      "cell_type": "markdown",
      "metadata": {
        "id": "YTMwPwKg4drC"
      },
      "source": [
        "---\n",
        "---\n",
        "# **Setting Up Molecular Docking**\n",
        "It is necessary to define search space for docking on a target protein through the use of grid box. The grid box is usually centered within the binding, active or allosteric site of target protein and its size should be sufficiently enough such that important binding residues are contained inside the box.\n",
        "**default centroid is calculated at the center of the receptor chain.**"
      ]
    },
    {
      "cell_type": "code",
      "execution_count": null,
      "metadata": {
        "colab": {
          "base_uri": "https://localhost:8080/"
        },
        "id": "VhOwA0kL6FZJ",
        "outputId": "148c65ed-f948-4217-9b67-4b6112c34e01"
      },
      "outputs": [
        {
          "name": "stdout",
          "output_type": "stream",
          "text": [
            "Channels:\n",
            " - conda-forge\n",
            " - bioconda\n",
            "Platform: linux-64\n",
            "Collecting package metadata (repodata.json): - \b\b\\ \b\b| \b\b/ \b\b- \b\b\\ \b\b| \b\b/ \b\b- \b\b\\ \b\b| \b\b/ \b\b- \b\b\\ \b\b| \b\b/ \b\b- \b\b\\ \b\b| \b\b/ \b\b- \b\b\\ \b\b| \b\b/ \b\b- \b\b\\ \b\b| \b\b/ \b\b- \b\b\\ \b\b| \b\b/ \b\b- \b\b\\ \b\b| \b\b/ \b\b- \b\b\\ \b\b| \b\b/ \b\b- \b\b\\ \b\b| \b\b/ \b\b- \b\b\\ \b\b| \b\b/ \b\b- \b\b\\ \b\b| \b\b/ \b\b- \b\b\\ \b\b| \b\b/ \b\b- \b\b\\ \b\b| \b\b/ \b\b- \b\b\\ \b\b| \b\b/ \b\b- \b\b\\ \b\b| \b\b/ \b\b- \b\b\\ \b\b| \b\b/ \b\b- \b\b\\ \b\b| \b\b/ \b\b- \b\b\\ \b\b| \b\b/ \b\b- \b\b\\ \b\b| \b\b/ \b\b- \b\b\\ \b\b| \b\b/ \b\b- \b\b\\ \b\b| \b\b/ \b\b- \b\b\\ \b\b| \b\b/ \b\b- \b\b\\ \b\b| \b\b/ \b\b- \b\b\\ \b\b| \b\b/ \b\b- \b\b\\ \b\b| \b\b/ \b\b- \b\b\\ \b\b| \b\b/ \b\b- \b\b\\ \b\b| \b\b/ \b\b- \b\b\\ \b\b| \b\b/ \b\b- \b\b\\ \b\b| \b\b/ \b\b- \b\b\\ \b\b| \b\b/ \b\b- \b\b\\ \b\b| \b\b/ \b\b- \b\b\\ \b\b| \b\b/ \b\b- \b\b\\ \b\b| \b\b/ \b\b- \b\b\\ \b\b| \b\b/ \b\b- \b\b\\ \b\b| \b\b/ \b\b- \b\b\\ \b\b| \b\b/ \b\b- \b\b\\ \b\b| \b\b/ \b\b- \b\b\\ \b\b| \b\b/ \b\b- \b\b\\ \b\b| \b\b/ \b\b- \b\b\\ \b\b| \b\b/ \b\b- \b\b\\ \b\b| \b\b/ \b\b- \b\b\\ \b\b| \b\b/ \b\b- \b\b\\ \b\b| \b\b/ \b\b- \b\b\\ \b\b| \b\b/ \b\b- \b\b\\ \b\b| \b\b/ \b\b- \b\b\\ \b\b| \b\b/ \b\b- \b\b\\ \b\b| \b\b/ \b\b- \b\b\\ \b\b| \b\b/ \b\b- \b\b\\ \b\b| \b\b/ \b\b- \b\b\\ \b\b| \b\b/ \b\b- \b\b\\ \b\b| \b\b/ \b\b- \b\b\\ \b\b| \b\b/ \b\b- \b\b\\ \b\b| \b\b/ \b\b- \b\b\\ \b\b| \b\b/ \b\b- \b\b\\ \b\b| \b\b/ \b\b- \b\b\\ \b\b| \b\b/ \b\b- \b\b\\ \b\b| \b\b/ \b\b- \b\b\\ \b\b| \b\b/ \b\b- \b\b\\ \b\b| \b\b/ \b\b- \b\b\\ \b\b| \b\b/ \b\b- \b\b\\ \b\b| \b\b/ \b\b- \b\b\\ \b\b| \b\b/ \b\b- \b\b\\ \b\b| \b\b/ \b\b- \b\b\\ \b\b| \b\b/ \b\b- \b\b\\ \b\b| \b\b/ \b\b- \b\b\\ \b\b| \b\b/ \b\b- \b\b\\ \b\b| \b\b/ \b\b- \b\b\\ \b\b| \b\b/ \b\b- \b\b\\ \b\b| \b\b/ \b\b- \b\b\\ \b\b| \b\b/ \b\b- \b\b\\ \b\b| \b\b/ \b\b- \b\b\\ \b\b| \b\b/ \b\b- \b\b\\ \b\b| \b\b/ \b\b- \b\b\\ \b\b| \b\b/ \b\b- \b\b\\ \b\b| \b\b/ \b\b- \b\b\\ \b\b| \b\b/ \b\b- \b\b\\ \b\b| \b\b/ \b\b- \b\bdone\n",
            "Solving environment: | \b\b/ \b\b- \b\b\\ \b\b| \b\b/ \b\b- \b\bdone\n",
            "\n",
            "\n",
            "==> WARNING: A newer version of conda exists. <==\n",
            "    current version: 23.11.0\n",
            "    latest version: 24.5.0\n",
            "\n",
            "Please update conda by running\n",
            "\n",
            "    $ conda update -n base -c conda-forge conda\n",
            "\n",
            "\n",
            "\n",
            "## Package Plan ##\n",
            "\n",
            "  environment location: /usr/local\n",
            "\n",
            "  added / updated specs:\n",
            "    - bioconda::mgltools\n",
            "\n",
            "\n",
            "The following packages will be downloaded:\n",
            "\n",
            "    package                    |            build\n",
            "    ---------------------------|-----------------\n",
            "    mgltools-1.5.7             |       h9ee0642_1       107.0 MB  bioconda\n",
            "    ------------------------------------------------------------\n",
            "                                           Total:       107.0 MB\n",
            "\n",
            "The following NEW packages will be INSTALLED:\n",
            "\n",
            "  mgltools           bioconda/linux-64::mgltools-1.5.7-h9ee0642_1 \n",
            "\n",
            "\n",
            "\n",
            "Downloading and Extracting Packages:\n",
            "                                                                        \n",
            "Preparing transaction: | \b\b/ \b\b- \b\b\\ \b\bdone\n",
            "Verifying transaction: / \b\b- \b\b\\ \b\b| \b\b/ \b\b- \b\b\\ \b\b| \b\b/ \b\b- \b\bdone\n",
            "Executing transaction: | \b\b/ \b\b- \b\b\\ \b\b| \b\b/ \b\b- \b\b\\ \b\b| \b\b/ \b\b- \b\b\\ \b\bdone\n"
          ]
        }
      ],
      "source": [
        "!conda install bioconda::mgltools"
      ]
    },
    {
      "cell_type": "code",
      "execution_count": null,
      "metadata": {
        "colab": {
          "base_uri": "https://localhost:8080/"
        },
        "id": "U8ittE3E3mY4",
        "outputId": "e1a30c55-2f88-4d4b-8499-8392a5382ba1"
      },
      "outputs": [
        {
          "name": "stdout",
          "output_type": "stream",
          "text": [
            "Ligand saved as PDBQT.\n",
            "> Finished processing ligands\n"
          ]
        }
      ],
      "source": [
        "#@title ligand to PDBQT\n",
        "n = 1\n",
        "for protonated_smile in protonated_smiles:\n",
        "  Ligand_name = f\"lig_hybrid_{n}\"\n",
        "\n",
        "  LIGAND = Ligand_name\n",
        "  LIGAND_pdbqt = LIGAND + \".pdbqt\"\n",
        "  LIGAND_pdbqt_dfile = os.path.join(docking_folder, LIGAND_pdbqt)\n",
        "\n",
        "\n",
        "  protonated_mol = preparation_for_docking.mol_from_smi_or_molblock(protonated_smile)\n",
        "  ligand = preparation_for_docking.ligand_preparation(protonated_mol)\n",
        "\n",
        "  with open(LIGAND_pdbqt_dfile, 'w') as file:\n",
        "      file.write(ligand)\n",
        "  print(\"Ligand saved as PDBQT.\")\n",
        "  n += 1\n",
        "\n",
        "print(\"> Finished processing ligands\")"
      ]
    },
    {
      "cell_type": "code",
      "execution_count": null,
      "metadata": {
        "colab": {
          "base_uri": "https://localhost:8080/"
        },
        "id": "PvnJOFoW7chd",
        "outputId": "7181638b-f23a-4dde-fc5e-a700229b0793"
      },
      "outputs": [
        {
          "name": "stderr",
          "output_type": "stream",
          "text": [
            "/usr/local/lib/python3.10/dist-packages/ipykernel/ipkernel.py:283: DeprecationWarning: `should_run_async` will not call `transform_cell` automatically in the future. Please pass the result to `transformed_cell` argument and any exception that happen during thetransform in `preprocessing_exc_tuple` in IPython 7.17 and above.\n",
            "  and should_run_async(code)\n"
          ]
        },
        {
          "name": "stdout",
          "output_type": "stream",
          "text": [
            "> receptor_3CGT_B-cl.pdbqt successfully created in /content/3CGT_docking/docking\n"
          ]
        }
      ],
      "source": [
        "Target_protein = f\"receptor_{PDB_ID}_{chain[0]}-cl.pdb\"\n",
        "PROTEIN = os.path.splitext(Target_protein)[0]\n",
        "PROTEIN_pdb = PROTEIN + \".pdb\"\n",
        "PROTEIN_pdbqt = PROTEIN + \".pdbqt\"\n",
        "PROTEIN_pdb_pfile = os.path.join(protein_folder, PROTEIN_pdb)\n",
        "PROTEIN_pdb_dfile = os.path.join(docking_folder, PROTEIN_pdb)\n",
        "PROTEIN_pdbqt_dfile = os.path.join(docking_folder, PROTEIN_pdbqt)\n",
        "PROTEIN_pdbqt_dfile = os.path.join(docking_folder, PROTEIN_pdbqt)\n",
        "\n",
        "\n",
        "# Add polar hydrogen and parameterise with MGLtools\n",
        "!prepare_receptor4.py -r $PROTEIN_pdb_pfile -o $PROTEIN_pdbqt_dfile -A checkhydrogens -U nphs\n",
        "shutil.copy(PROTEIN_pdb_pfile, docking_folder)\n",
        "\n",
        "print(\"> \" + PROTEIN_pdbqt + \" successfully created in \" + docking_folder)"
      ]
    },
    {
      "cell_type": "code",
      "execution_count": null,
      "metadata": {
        "id": "cT7VHpTGfL9o"
      },
      "outputs": [],
      "source": [
        "from google.colab import drive\n",
        "drive.mount('/content/drive')"
      ]
    },
    {
      "cell_type": "code",
      "execution_count": null,
      "metadata": {
        "id": "D7RNkDFOR3h2"
      },
      "outputs": [],
      "source": [
        "#@title get centroid\n",
        "def extract_centroid_from_pdb(pdb_file):\n",
        "    file = open(pdb_file, 'r')\n",
        "    try:\n",
        "        for line in file:\n",
        "            if line.startswith(\"REMARK Centroid\"):\n",
        "                parts = line.split()\n",
        "                # In Python 2.5, ensure conversion is explicit\n",
        "                x = float(parts[3])\n",
        "                y = float(parts[5])\n",
        "                z = float(parts[7])\n",
        "                return (x, y, z)\n",
        "    finally:\n",
        "        file.close()\n",
        "    return None  # In case no centroid line is found\n",
        "\n",
        "X, Y, Z = extract_centroid_from_pdb(PROTEIN_pdb_pfile)"
      ]
    },
    {
      "cell_type": "code",
      "execution_count": null,
      "metadata": {
        "colab": {
          "base_uri": "https://localhost:8080/"
        },
        "id": "q-PkYP7LcpP-",
        "outputId": "7cd25b43-ffb7-4a1a-fd69-70e92d648203"
      },
      "outputs": [
        {
          "name": "stdout",
          "output_type": "stream",
          "text": [
            "58 11 8\n"
          ]
        }
      ],
      "source": [
        "X, Y, Z = int(X), int(Y), int(Z)\n",
        "print(X, Y, Z)\n",
        "WIDTH = 120\n",
        "HEIGHT = 120\n",
        "LENGTH = 120"
      ]
    },
    {
      "cell_type": "code",
      "execution_count": null,
      "metadata": {
        "colab": {
          "base_uri": "https://localhost:8080/"
        },
        "id": "2xz1SjekcTfw",
        "outputId": "ec13f60c-9c4b-412e-aaf2-82d61ef3900a"
      },
      "outputs": [
        {
          "name": "stdout",
          "output_type": "stream",
          "text": [
            "> config_file.txt successfully created in/content/3CGT_docking/docking\n"
          ]
        }
      ],
      "source": [
        "config = \"config_file.txt\"\n",
        "config_dfile = os.path.join(docking_folder, config)\n",
        "\n",
        "# Write config file\n",
        "with open(config_dfile, \"w\") as f:\n",
        "  f.write(\"receptor = %s.pdbqt \\n\" % PROTEIN)\n",
        "  f.write(\"\\n\")\n",
        "  f.write(\"center_x = %s \\n\" % X)\n",
        "  f.write(\"center_y = %s \\n\" % Y)\n",
        "  f.write(\"center_z = %s \\n\" % Z)\n",
        "  f.write(\"\\n\")\n",
        "  f.write(\"size_x = %s \\n\" % WIDTH)\n",
        "  f.write(\"size_y = %s \\n\" % HEIGHT)\n",
        "  f.write(\"size_z = %s \\n\" % LENGTH)\n",
        "\n",
        "print(\"> \" + config + \" successfully created in\" + docking_folder)"
      ]
    },
    {
      "cell_type": "markdown",
      "metadata": {
        "id": "TcXJ5aeAfWKU"
      },
      "source": [
        "---\n",
        "---\n",
        "# **Performing Molecular Docking**\n",
        "Autodock Vina will perform the docking stimulation. The simulation runtime varies per ligand."
      ]
    },
    {
      "cell_type": "code",
      "execution_count": null,
      "metadata": {
        "colab": {
          "base_uri": "https://localhost:8080/"
        },
        "id": "hvn0kZhzfjPv",
        "outputId": "700fb037-14a3-4e08-e9cd-bce2d5cdf90a"
      },
      "outputs": [
        {
          "name": "stdout",
          "output_type": "stream",
          "text": [
            "['lig_hybrid_1.pdbqt']\n",
            "\n",
            "> Molecular docking number 1 completed\n"
          ]
        }
      ],
      "source": [
        "n = 1\n",
        "# Executing AutoDock Vina with our configuration file\n",
        "os.chdir(docking_folder)\n",
        "ligand_files = [file for file in os.listdir() if file.startswith(\"lig\") and file.endswith(\".pdbqt\")]\n",
        "print(ligand_files)\n",
        "for ligand_file in ligand_files:\n",
        "    LIGAND = ligand_file[:-6]  # Strip off '.pdbqt' to use as base for naming\n",
        "    LIGAND_out_pdbqt =\"output_\" + LIGAND + \"_output.pdbqt\"\n",
        "    LIGAND_log_txt =\"output_\" + LIGAND + \"_log.txt\"\n",
        "    LIGAND_out_pdbqt_dfile = os.path.join(docking_folder, LIGAND_out_pdbqt)\n",
        "    LIGAND_log_txt_dfile = os.path.join(docking_folder, LIGAND_log_txt)\n",
        "    with Hide():\n",
        "      with open(LIGAND_log_txt_dfile, \"w\") as w:\n",
        "        with contextlib.redirect_stdout(w):\n",
        "          %vina --config $config_dfile --ligand $ligand_file --out $LIGAND_out_pdbqt_dfile --cpu 4 --seed -224378816 --exhaustiveness 8 --num_modes 10 --energy_range 3\n",
        "      with open(LIGAND_log_txt_dfile, \"r\") as r:\n",
        "        data = r.read().splitlines(True)\n",
        "      with open(LIGAND_log_txt_dfile, \"w\") as o:\n",
        "        o.writelines(data[1:])\n",
        "\n",
        "    print(\"\")\n",
        "    print(f\"> Molecular docking number {n} completed\")\n",
        "    n += 1"
      ]
    },
    {
      "cell_type": "code",
      "execution_count": null,
      "metadata": {
        "colab": {
          "base_uri": "https://localhost:8080/"
        },
        "id": "-PG_c8yBxwuv",
        "outputId": "3d6a24bf-974b-43da-f9ba-4b85717914c3"
      },
      "outputs": [
        {
          "name": "stdout",
          "output_type": "stream",
          "text": [
            "CC(=O)Nc1nnc(S(N)(=O)=O)s1\n"
          ]
        }
      ],
      "source": [
        "#@title **calculating molecular descriptors**\n",
        "from rdkit.Chem.rdMolDescriptors import CalcNumLipinskiHBA, CalcNumLipinskiHBD, CalcExactMolWt, CalcCrippenDescriptors\n",
        "\n",
        "def lipinski(path):\n",
        "  with open(path, 'r') as file:\n",
        "    for line in file:\n",
        "      if line.startswith(\"REMARK SMILES\"):\n",
        "        parts = line.split()\n",
        "        smiles = parts[2]\n",
        "        print(smiles)\n",
        "        break\n",
        "\n",
        "\n",
        "    mol = Chem.MolFromSmiles(smiles)\n",
        "    exact_mw = CalcExactMolWt(mol)\n",
        "    logp, _ = CalcCrippenDescriptors(mol)  # Returns logP and MR (molar refractivity)\n",
        "    hbd = CalcNumLipinskiHBD(mol)\n",
        "    hba = CalcNumLipinskiHBA(mol)\n",
        "\n",
        "    lipinski_violations = sum([1 for x in [exact_mw > 500, logp > 5, hbd > 5, hba > 10] if x])\n",
        "\n",
        "    lip_score = 0\n",
        "    lip_score += 4 - lipinski_violations\n",
        "    return lip_score, exact_mw, logp, hbd, hba\n",
        "\n",
        "out_files = [f for f in os.listdir(docking_folder) if f.endswith(\"output.pdbqt\")]\n",
        "# Create a list for dataframe construction\n",
        "lip = []\n",
        "for item in out_files:\n",
        "  lip_score, exact_mw, logp, hbd, hba = lipinski(os.path.join(docking_folder, item))\n",
        "  if lip_score is not None:  # Ensure that SMILES was found and processed\n",
        "        ligand_name = item.split(\"_\")[1] + item.split(\"_\")[3].replace(\".pdbqt\", \"\")\n",
        "        lip.append({\n",
        "            \"ligand\": ligand_name,\n",
        "            \"lip_score\": lip_score,\n",
        "            \"exact_mw\": exact_mw,\n",
        "            \"logp\": logp,\n",
        "            \"hbd\": hbd,\n",
        "            \"hba\": hba\n",
        "        })\n",
        "\n",
        "\n",
        "\n",
        "# Convert list of dictionaries to DataFrame\n",
        "df = pd.DataFrame(lip)\n"
      ]
    },
    {
      "cell_type": "code",
      "execution_count": null,
      "metadata": {
        "colab": {
          "base_uri": "https://localhost:8080/"
        },
        "id": "s-TykDb5f6Dj",
        "outputId": "83553c9b-8726-4c82-eb66-8ab7e9e282cb"
      },
      "outputs": [
        {
          "name": "stdout",
          "output_type": "stream",
          "text": [
            "CSV file has been written with results to /content/3CGT_docking/docking/docking_results.csv\n"
          ]
        }
      ],
      "source": [
        "#@title **saving docking results to a csv file**\n",
        "def docking_result_to_csv(directory_path):\n",
        "    def extract_first_mode(file_path):\n",
        "        \"\"\"Extracts the first mode's affinity and RMSD from the docking log file.\"\"\"\n",
        "        with open(file_path, 'r') as file:\n",
        "            for line in file:\n",
        "                if line.startswith(\"   1      \"):  # This string should exactly match the format in the log files\n",
        "                    parts = line.split()\n",
        "                    affinity = float(parts[1])  # Assuming the affinity is the second element\n",
        "\n",
        "                    return affinity\n",
        "        return None  # Return None if no data is found, meaning the file didn't contain the expected line\n",
        "\n",
        "    def write_results_to_csv(results, output_path):\n",
        "        \"\"\"Writes the collected results to a CSV file.\"\"\"\n",
        "        with open(output_path, 'w', newline='') as csvfile:\n",
        "            fieldnames = ['ligand', 'affinity']\n",
        "            writer = csv.DictWriter(csvfile, fieldnames=fieldnames)\n",
        "            writer.writeheader()\n",
        "            for result in results:\n",
        "                writer.writerow(result)\n",
        "\n",
        "\n",
        "    # Get all log files\n",
        "    log_files = [f for f in os.listdir(directory_path) if f.endswith(\"log.txt\")]\n",
        "\n",
        "    # List to store results\n",
        "    results = []\n",
        "\n",
        "    # Process each log file\n",
        "    for log_file in log_files:\n",
        "        ligand = log_file.split(\"_\")[1] + log_file.split(\"_\")[3]\n",
        "        file_path = os.path.join(directory_path, log_file)\n",
        "        affinity = extract_first_mode(file_path)\n",
        "        if affinity is not None:  # Ensure data was found\n",
        "            results.append({\n",
        "                'ligand': ligand,\n",
        "                'affinity': affinity,\n",
        "\n",
        "            })\n",
        "\n",
        "    # Path for the output CSV file\n",
        "    output_csv_path = os.path.join(directory_path, \"docking_results.csv\")\n",
        "\n",
        "    # Write the results to CSV\n",
        "    write_results_to_csv(results, output_csv_path)\n",
        "    print(\"CSV file has been written with results to\", output_csv_path)\n",
        "\n",
        "\n",
        "    return  affinity, output_csv_path\n",
        "\n",
        "top_score, output_csv_path = docking_result_to_csv(docking_folder)"
      ]
    },
    {
      "cell_type": "code",
      "execution_count": null,
      "metadata": {
        "id": "Uw2R-yc2cKw1"
      },
      "outputs": [],
      "source": [
        "#@title **saving final results to a csv file**\n",
        "# Load the first DataFrame from a CSV file\n",
        "df1 = pd.read_csv(output_csv_path)\n",
        "\n",
        "# Assuming 'df' is defined earlier in your script (e.g., from your previous Lipinski calculations)\n",
        "# Merge 'df' with 'df1' based on the 'ligand' column\n",
        "\n",
        "final = pd.merge(df, df1, on=\"ligand\")\n",
        "\n",
        "# Save the merged DataFrame to a new CSV file\n",
        "final.to_csv(\"/content/final_results.csv\")"
      ]
    },
    {
      "cell_type": "code",
      "execution_count": null,
      "metadata": {
        "id": "oU5ATfxNQu7U"
      },
      "outputs": [],
      "source": []
    },
    {
      "cell_type": "code",
      "execution_count": null,
      "metadata": {
        "id": "1gf68lPgymlk"
      },
      "outputs": [],
      "source": []
    },
    {
      "cell_type": "code",
      "execution_count": null,
      "metadata": {
        "id": "d-L0H-jJeSgk"
      },
      "outputs": [],
      "source": []
    },
    {
      "cell_type": "code",
      "execution_count": null,
      "metadata": {
        "id": "-3dt6ZAQ8eC2"
      },
      "outputs": [],
      "source": []
    },
    {
      "cell_type": "code",
      "execution_count": null,
      "metadata": {
        "id": "K7hVVAvTvbQ3"
      },
      "outputs": [],
      "source": []
    }
  ],
  "metadata": {
    "colab": {
      "provenance": [],
      "include_colab_link": true
    },
    "kernelspec": {
      "display_name": "Python 3",
      "name": "python3"
    },
    "language_info": {
      "name": "python"
    }
  },
  "nbformat": 4,
  "nbformat_minor": 0
}